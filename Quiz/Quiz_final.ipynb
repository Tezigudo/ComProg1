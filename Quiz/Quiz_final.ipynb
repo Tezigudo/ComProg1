{
 "cells": [
  {
   "cell_type": "code",
   "execution_count": null,
   "metadata": {},
   "outputs": [],
   "source": [
    "class Timer:\n",
    "    def __init__(self, duration):\n",
    "        self.duration = duration\n",
    "        self.__remaining = self.duration\n",
    "        self.is_pause = False\n",
    "\n",
    "    def __repr__(self):\n",
    "        return f'Timer(duration={self.duration})'\n",
    "\n",
    "    def tick(self):\n",
    "        if not self.is_pause:\n",
    "            self.__remaining -= 1\n",
    "    \n",
    "    def pause(self):\n",
    "        self.is_pause = True\n",
    "\n",
    "    def resume(self):\n",
    "        self.is_pause = False\n",
    "\n",
    "    def reset(self):\n",
    "        self.__remaining = self.duration\n",
    "\n",
    "    def expired(self):\n",
    "        return self.remaining <= 0\n",
    "\n",
    "    @property\n",
    "    def duration(self):\n",
    "        return self.__duration\n",
    "\n",
    "    @duration.setter\n",
    "    def duration(self, other):\n",
    "        if not isinstance(other, int):\n",
    "            raise TypeError('Duration must be an integer')\n",
    "        if other < 0:\n",
    "            raise ValueError('Duration must not be negative')\n",
    "        self.__duration = other\n",
    "\n",
    "    @property\n",
    "    def remaining(self):\n",
    "        return self.__remaining\n",
    "\n",
    "    def __eq__(self, other):\n",
    "        if not isinstance(other, int):\n",
    "            raise TypeError('Timer can only be compared with an integer')\n",
    "        return self.remaining == other\n",
    "\n",
    "    def __lt__(self, other):\n",
    "        if not isinstance(other, int):\n",
    "            raise TypeError('Timer can only be compared with an integer')\n",
    "        return self.remaining < other\n",
    "\n",
    "    def __le__(self, other):\n",
    "        if not isinstance(other, int):\n",
    "            raise TypeError('Timer can only be compared with an integer')\n",
    "        return self.remaining <= other\n",
    "\n",
    "    def __gt__(self, other):\n",
    "        if not isinstance(other, int):\n",
    "            raise TypeError('Timer can only be compared with an integer')\n",
    "        return self.remaining > other\n",
    "\n",
    "    def __ge__(self, other):\n",
    "        if not isinstance(other, int):\n",
    "            raise TypeError('Timer can only be compared with an integer')\n",
    "        return self.remaining >= other\n",
    "\n"
   ]
  },
  {
   "cell_type": "code",
   "execution_count": null,
   "metadata": {},
   "outputs": [],
   "source": [
    "t1 = Timer(5)"
   ]
  },
  {
   "cell_type": "code",
   "execution_count": null,
   "metadata": {},
   "outputs": [],
   "source": [
    "t1 == 5"
   ]
  },
  {
   "cell_type": "code",
   "execution_count": null,
   "metadata": {},
   "outputs": [],
   "source": [
    "t1 <= 5"
   ]
  },
  {
   "cell_type": "code",
   "execution_count": null,
   "metadata": {},
   "outputs": [],
   "source": [
    "t1 > 5"
   ]
  },
  {
   "cell_type": "code",
   "execution_count": null,
   "metadata": {},
   "outputs": [],
   "source": [
    "t1.remaining"
   ]
  },
  {
   "cell_type": "code",
   "execution_count": null,
   "metadata": {},
   "outputs": [],
   "source": [
    "t1.duration"
   ]
  },
  {
   "cell_type": "code",
   "execution_count": null,
   "metadata": {},
   "outputs": [],
   "source": [
    "import os"
   ]
  },
  {
   "cell_type": "code",
   "execution_count": null,
   "metadata": {},
   "outputs": [],
   "source": [
    "os.getcwd()"
   ]
  },
  {
   "cell_type": "code",
   "execution_count": null,
   "metadata": {},
   "outputs": [],
   "source": []
  },
  {
   "cell_type": "code",
   "execution_count": null,
   "metadata": {},
   "outputs": [],
   "source": [
    "medal_data"
   ]
  },
  {
   "cell_type": "code",
   "execution_count": null,
   "metadata": {},
   "outputs": [],
   "source": [
    "import csv\n",
    "\n",
    "\n",
    "def exact_num_medal(medal_data, medal_type, threshold):\n",
    "    return sum(int(data[medal_type]) > threshold for data in medal_data)\n",
    "\n",
    "\n",
    "while 1:\n",
    "    medal_csv = input('Enter CSV file: ')\n",
    "    try:\n",
    "        medal_data = []\n",
    "        with open(medal_csv, 'r') as medal_file:\n",
    "            data = csv.DictReader(medal_file)\n",
    "            for each_data in data:\n",
    "                medal_data.append(each_data)\n",
    "        break\n",
    "    except FileNotFoundError:\n",
    "        print(f'Filename {medal_csv} does not exist. Please enter again.')\n",
    "\n",
    "while 1:\n",
    "    medal_type = input('What is the type of medal? (or [exit] to quit): ')\n",
    "    if medal_type == 'exit':\n",
    "        exit()\n",
    "    if medal_type not in ['Gold', 'Silver', 'Bronze']:\n",
    "        print(f\"The key '{medal_type}' does not exist.\")\n",
    "        continue\n",
    "    threshold = int(input(f'Print the number of teams that has {medal_type} medals over: '))\n",
    "    print(f'Answer = {exact_num_medal(medal_data, medal_type, threshold)}')\n",
    "\n",
    "# finished within 10:50"
   ]
  },
  {
   "cell_type": "code",
   "execution_count": null,
   "metadata": {},
   "outputs": [],
   "source": []
  }
 ],
 "metadata": {
  "interpreter": {
   "hash": "aee8b7b246df8f9039afb4144a1f6fd8d2ca17a180786b69acc140d282b71a49"
  },
  "kernelspec": {
   "display_name": "Python 3.10.0 64-bit",
   "language": "python",
   "name": "python3"
  },
  "language_info": {
   "codemirror_mode": {
    "name": "ipython",
    "version": 3
   },
   "file_extension": ".py",
   "mimetype": "text/x-python",
   "name": "python",
   "nbconvert_exporter": "python",
   "pygments_lexer": "ipython3",
   "version": "3.10.0"
  },
  "orig_nbformat": 4
 },
 "nbformat": 4,
 "nbformat_minor": 2
}
