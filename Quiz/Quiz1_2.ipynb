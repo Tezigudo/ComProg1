{
 "cells": [
  {
   "cell_type": "code",
   "execution_count": 24,
   "source": [
    "garden = [[20, 22, 25, 27],\n",
    "\n",
    "      [15, 13, 18, 17],\n",
    "\n",
    "      [22, 25, 28, 30]]\n"
   ],
   "outputs": [],
   "metadata": {}
  },
  {
   "cell_type": "code",
   "execution_count": 8,
   "source": [
    "for x in garden:\n",
    "    print(*x)\n",
    "for i, x in enumerate(garden):\n",
    "    print(f'Type{i+1}: Max product = {max(x)}')\n",
    "    print(f'Max location = {[i+1 for i in range(len(x)) if x[i]==max(x)]}')"
   ],
   "outputs": [
    {
     "output_type": "stream",
     "name": "stdout",
     "text": [
      "105 120 100\n",
      "95 90 80\n",
      "90 85 90\n",
      "50 70 60\n",
      "70 60 75\n",
      "Type1: Max product = 120\n",
      "Max location = [2]\n",
      "Type2: Max product = 95\n",
      "Max location = [1]\n",
      "Type3: Max product = 90\n",
      "Max location = [1, 3]\n",
      "Type4: Max product = 70\n",
      "Max location = [2]\n",
      "Type5: Max product = 75\n",
      "Max location = [3]\n"
     ]
    }
   ],
   "metadata": {}
  },
  {
   "cell_type": "code",
   "execution_count": 25,
   "source": [
    "k = list(zip(*garden))\n",
    "for i, x in enumerate(k):\n",
    "    print(f'Location {i+1}:',*x)\n",
    "\n",
    "p = int(input('Enter productive value: '))\n",
    "for i, x in enumerate(k):\n",
    "    print(f'Location {i+1}:',*[f'Type{j+1},' for j in range(len(x)) if x[j]>p])"
   ],
   "outputs": [
    {
     "output_type": "stream",
     "name": "stdout",
     "text": [
      "Location 1: 20 15 22\n",
      "Location 2: 22 13 25\n",
      "Location 3: 25 18 28\n",
      "Location 4: 27 17 30\n",
      "Location 1:\n",
      "Location 2: Type3,\n",
      "Location 3: Type1, Type3,\n",
      "Location 4: Type1, Type3,\n"
     ]
    }
   ],
   "metadata": {}
  },
  {
   "cell_type": "code",
   "execution_count": 26,
   "source": [
    "garden = {'orange': [105, 120, 100],\n",
    "\n",
    "        'longan': [95, 90, 80],\n",
    "\n",
    "        'lychee': [90, 85, 90],\n",
    "\n",
    "        'grapes': [50, 70, 60],\n",
    "\n",
    "        'apple': [70, 60, 75]}"
   ],
   "outputs": [],
   "metadata": {}
  },
  {
   "cell_type": "code",
   "execution_count": 32,
   "source": [
    "for x in garden:\n",
    "    print(f'{x}: {garden[x]}')\n",
    "print(', '.join(garden.keys())+', ')\n",
    "fruit = input('Enter fruit: ')\n",
    "print(f'Product of {fruit} = {sum(garden[fruit])}')"
   ],
   "outputs": [
    {
     "output_type": "stream",
     "name": "stdout",
     "text": [
      "orange: [105, 120, 100]\n",
      "longan: [95, 90, 80]\n",
      "lychee: [90, 85, 90]\n",
      "grapes: [50, 70, 60]\n",
      "apple: [70, 60, 75]\n",
      "\n",
      "orange, longan, lychee, grapes, apple,\n",
      "Product of orange = 325\n"
     ]
    }
   ],
   "metadata": {}
  },
  {
   "cell_type": "code",
   "execution_count": 35,
   "source": [
    "from math import pi"
   ],
   "outputs": [],
   "metadata": {}
  },
  {
   "cell_type": "code",
   "execution_count": 36,
   "source": [
    "pi"
   ],
   "outputs": [
    {
     "output_type": "execute_result",
     "data": {
      "text/plain": [
       "3.141592653589793"
      ]
     },
     "metadata": {},
     "execution_count": 36
    }
   ],
   "metadata": {}
  },
  {
   "cell_type": "code",
   "execution_count": 41,
   "source": [
    "a = 3.1415926536\n",
    "print('01234567890123456789')\n",
    "print(f'{a:^20}')\n",
    "print(f'{a:<.2f}')"
   ],
   "outputs": [
    {
     "output_type": "stream",
     "name": "stdout",
     "text": [
      "01234567890123456789\n",
      "    3.1415926536    \n",
      "3.14\n"
     ]
    }
   ],
   "metadata": {}
  },
  {
   "cell_type": "code",
   "execution_count": 1,
   "source": [
    "x=36\n",
    "y=11\n",
    "print(y*x//5**2-x%y-5<0)"
   ],
   "outputs": [
    {
     "output_type": "stream",
     "name": "stdout",
     "text": [
      "False\n"
     ]
    }
   ],
   "metadata": {}
  },
  {
   "cell_type": "code",
   "execution_count": 43,
   "source": [
    "x=-2\n",
    "print(x-x**(-x)**3)"
   ],
   "outputs": [
    {
     "output_type": "stream",
     "name": "stdout",
     "text": [
      "-258\n"
     ]
    }
   ],
   "metadata": {}
  },
  {
   "cell_type": "code",
   "execution_count": 2,
   "source": [],
   "outputs": [
    {
     "output_type": "error",
     "ename": "TypeError",
     "evalue": "add() takes 0 positional arguments but 1 was given",
     "traceback": [
      "\u001b[0;31m---------------------------------------------------------------------------\u001b[0m",
      "\u001b[0;31mTypeError\u001b[0m                                 Traceback (most recent call last)",
      "\u001b[0;32m/var/folders/1h/93wslqxj7kz5qnq_szkpw2nc0000gn/T/ipykernel_1041/476748844.py\u001b[0m in \u001b[0;36m<module>\u001b[0;34m\u001b[0m\n\u001b[1;32m      2\u001b[0m \u001b[0;32mdef\u001b[0m \u001b[0madd\u001b[0m\u001b[0;34m(\u001b[0m\u001b[0;34m)\u001b[0m\u001b[0;34m:\u001b[0m\u001b[0;34m\u001b[0m\u001b[0;34m\u001b[0m\u001b[0m\n\u001b[1;32m      3\u001b[0m     \u001b[0mprint\u001b[0m\u001b[0;34m(\u001b[0m\u001b[0ma\u001b[0m\u001b[0;34m*\u001b[0m\u001b[0;36m2\u001b[0m\u001b[0;34m)\u001b[0m\u001b[0;34m\u001b[0m\u001b[0;34m\u001b[0m\u001b[0m\n\u001b[0;32m----> 4\u001b[0;31m \u001b[0madd\u001b[0m\u001b[0;34m(\u001b[0m\u001b[0ma\u001b[0m\u001b[0;34m)\u001b[0m\u001b[0;34m\u001b[0m\u001b[0;34m\u001b[0m\u001b[0m\n\u001b[0m",
      "\u001b[0;31mTypeError\u001b[0m: add() takes 0 positional arguments but 1 was given"
     ]
    }
   ],
   "metadata": {}
  },
  {
   "cell_type": "code",
   "execution_count": null,
   "source": [],
   "outputs": [],
   "metadata": {}
  }
 ],
 "metadata": {
  "orig_nbformat": 4,
  "language_info": {
   "name": "python",
   "version": "3.10.0b1",
   "mimetype": "text/x-python",
   "codemirror_mode": {
    "name": "ipython",
    "version": 3
   },
   "pygments_lexer": "ipython3",
   "nbconvert_exporter": "python",
   "file_extension": ".py"
  },
  "kernelspec": {
   "name": "python3",
   "display_name": "Python 3.10.0b1 64-bit"
  },
  "interpreter": {
   "hash": "aee8b7b246df8f9039afb4144a1f6fd8d2ca17a180786b69acc140d282b71a49"
  }
 },
 "nbformat": 4,
 "nbformat_minor": 2
}