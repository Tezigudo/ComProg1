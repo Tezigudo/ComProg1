{
 "cells": [
  {
   "cell_type": "code",
   "execution_count": 4,
   "source": [
    "from math import ceil\n",
    "def get_num_tables(num_pp, size):\n",
    "    return ceil(num_pp/size)\n",
    "\n",
    "def get_group_payment(num_pp, reserved):\n",
    "    return num_pp*100+50*reserved\n",
    "\n",
    "def final_report(information):\n",
    "    for i, x in enumerate(information):\n",
    "        print(f'Group {i+1}: #reserved tables = {x[1]}, payment = {x[2]}, #customers = {x[0]}')\n",
    "        print(f'Payment per customer = {x[2]/x[0]:.2f} Baht')\n",
    "\n",
    "size = int(input('Enter #groups: '))\n",
    "tab = int(input('Enter table size: '))\n",
    "l = []\n",
    "for i in range(size):\n",
    "    num_pp = int(input(f'Group {i+1}: Enter #customers: '))\n",
    "    num_table = get_num_tables(num_pp, tab)\n",
    "    all_price = get_group_payment(num_pp, num_table)\n",
    "    l+=[[num_pp, num_table, all_price]]\n",
    "    print(l)\n",
    "\n",
    "final_report(l)"
   ],
   "outputs": [
    {
     "output_type": "stream",
     "name": "stdout",
     "text": [
      "[[10, 2, 1100]]\n",
      "[[10, 2, 1100], [4, 1, 450]]\n",
      "[[10, 2, 1100], [4, 1, 450], [6, 1, 650]]\n",
      "Group 1: #reserved tables = 2, payment = 1100, #customers = 10\n",
      "Payment per customer = 110.00 Baht\n",
      "Group 2: #reserved tables = 1, payment = 450, #customers = 4\n",
      "Payment per customer = 112.50 Baht\n",
      "Group 3: #reserved tables = 1, payment = 650, #customers = 6\n",
      "Payment per customer = 108.33 Baht\n"
     ]
    }
   ],
   "metadata": {}
  },
  {
   "cell_type": "code",
   "execution_count": 7,
   "source": [
    "menu = {'salad': 100, 'sandwich': 200, 'pasta': 300, 'steak': 500}"
   ],
   "outputs": [],
   "metadata": {}
  },
  {
   "cell_type": "code",
   "execution_count": 8,
   "source": [
    "def order(menu):\n",
    "    name = input('Enter name: ')\n",
    "    l_menu = menu.split(',')[:-1]\n",
    "    l = []\n",
    "    while 1:\n",
    "        print(menu)\n",
    "        tmp = input('Enter choice (q to quit): ')\n",
    "        if tmp == 'q':\n",
    "            return name, l\n",
    "        elif tmp not in l_menu:\n",
    "            print(f'{tmp} is not in menu.')\n",
    "        else:\n",
    "            l+=[tmp]\n",
    "menu_str = ','.join(menu.keys())+','\n",
    "name, food = order(menu_str)\n",
    "print(f\"{name}'s order = {food}\")\n",
    "print(f'Payment for {name} = {sum(menu[k] for k in food)} Baht')"
   ],
   "outputs": [
    {
     "output_type": "stream",
     "name": "stdout",
     "text": [
      "salad,sandwich,pasta,steak,\n",
      "slad is not in menu.\n",
      "salad,sandwich,pasta,steak,\n",
      "salad,sandwich,pasta,steak,\n",
      "streak is not in menu.\n",
      "salad,sandwich,pasta,steak,\n",
      "salad,sandwich,pasta,steak,\n",
      "bob's order = ['salad', 'steak']\n",
      "Payment for bob = 600 Baht\n"
     ]
    }
   ],
   "metadata": {}
  },
  {
   "cell_type": "code",
   "execution_count": 9,
   "source": [
    "menu = {'salad': 100, 'sandwich': 200, 'pasta': 300, 'steak': 500}"
   ],
   "outputs": [],
   "metadata": {}
  },
  {
   "cell_type": "code",
   "execution_count": 12,
   "source": [],
   "outputs": [
    {
     "output_type": "stream",
     "name": "stdout",
     "text": [
      "salad, sandwich, pasta, steak, \n",
      "5\n"
     ]
    }
   ],
   "metadata": {}
  },
  {
   "cell_type": "code",
   "execution_count": null,
   "source": [
    "{k:_dict2[_dict1[k]] for k in _dict1}"
   ],
   "outputs": [],
   "metadata": {}
  }
 ],
 "metadata": {
  "orig_nbformat": 4,
  "language_info": {
   "name": "python",
   "version": "3.10.0",
   "mimetype": "text/x-python",
   "codemirror_mode": {
    "name": "ipython",
    "version": 3
   },
   "pygments_lexer": "ipython3",
   "nbconvert_exporter": "python",
   "file_extension": ".py"
  },
  "kernelspec": {
   "name": "python3",
   "display_name": "Python 3.10.0b1 64-bit"
  },
  "interpreter": {
   "hash": "aee8b7b246df8f9039afb4144a1f6fd8d2ca17a180786b69acc140d282b71a49"
  }
 },
 "nbformat": 4,
 "nbformat_minor": 2
}