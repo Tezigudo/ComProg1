{
 "cells": [
  {
   "cell_type": "code",
   "execution_count": 3,
   "metadata": {},
   "outputs": [],
   "source": [
    "from vector import Vector\n",
    "\n",
    "class Border:\n",
    "    def __init__(self, corner, width, height):\n",
    "        self.corner = corner\n",
    "        self.width = width\n",
    "        self.height = height\n",
    "\n",
    "    def __repr__(self):\n",
    "        return (f\"Border(corner={self.corner},\"\n",
    "                f\" width={self.width}, height={self.height})\")\n",
    "\n",
    "    @property\n",
    "    def corner(self):\n",
    "        return self.__corner\n",
    "\n",
    "    @property\n",
    "    def height(self):\n",
    "        return self.__height\n",
    "\n",
    "    @property\n",
    "    def width(self):\n",
    "        return self.__width\n",
    "\n",
    "    @corner.setter\n",
    "    def corner(self, tmp):\n",
    "        if not isinstance(tmp, Vector):\n",
    "            raise TypeError('corner must be a Vector object')\n",
    "        self.__corner = tmp\n",
    "\n",
    "    @height.setter\n",
    "    def height(self, tmp):\n",
    "        if not instance(tmp, (int, float)):\n",
    "            raise TypeError('height must be a number')\n",
    "        if tmp <= 0:\n",
    "            raise ValueError('height must be greater than zero')\n",
    "        self.__height = tmp\n",
    "\n",
    "    @width.setter\n",
    "    def width(self, tmp):\n",
    "        if not instance(tmp, (int, float)):\n",
    "            raise TypeError('width must be a number')\n",
    "        if tmp <= 0:\n",
    "            raise ValueError('width must be greater than zero')\n",
    "        self.__width = tmp\n",
    "\n",
    "    @property\n",
    "    def left(self):\n",
    "        return self.corner.x\n",
    "\n",
    "    @property\n",
    "    def right(self):\n",
    "        return self.corner.x + self.width\n",
    "\n",
    "    @property\n",
    "    def bottom(self):\n",
    "        return self.corner.y\n",
    "\n",
    "    @property\n",
    "    def top(self):\n",
    "        return self.corner.y + self.height\n",
    "\n",
    "    @property\n",
    "    def sides(self):\n",
    "        return (self.left, self.right, self.bottom, self.top)\n"
   ]
  },
  {
   "cell_type": "code",
   "execution_count": null,
   "metadata": {},
   "outputs": [],
   "source": []
  },
  {
   "cell_type": "code",
   "execution_count": 4,
   "metadata": {},
   "outputs": [
    {
     "ename": "NameError",
     "evalue": "name 'instance' is not defined",
     "output_type": "error",
     "traceback": [
      "\u001b[0;31m---------------------------------------------------------------------------\u001b[0m",
      "\u001b[0;31mNameError\u001b[0m                                 Traceback (most recent call last)",
      "\u001b[0;32m/var/folders/1h/93wslqxj7kz5qnq_szkpw2nc0000gn/T/ipykernel_26019/1804771336.py\u001b[0m in \u001b[0;36m<module>\u001b[0;34m\u001b[0m\n\u001b[0;32m----> 1\u001b[0;31m \u001b[0mborder\u001b[0m \u001b[0;34m=\u001b[0m \u001b[0mBorder\u001b[0m\u001b[0;34m(\u001b[0m\u001b[0mVector\u001b[0m\u001b[0;34m(\u001b[0m\u001b[0;36m3\u001b[0m\u001b[0;34m,\u001b[0m \u001b[0;36m4\u001b[0m\u001b[0;34m)\u001b[0m\u001b[0;34m,\u001b[0m \u001b[0;36m5\u001b[0m\u001b[0;34m,\u001b[0m \u001b[0;36m6\u001b[0m\u001b[0;34m)\u001b[0m\u001b[0;34m\u001b[0m\u001b[0;34m\u001b[0m\u001b[0m\n\u001b[0m",
      "\u001b[0;32m/var/folders/1h/93wslqxj7kz5qnq_szkpw2nc0000gn/T/ipykernel_26019/671931392.py\u001b[0m in \u001b[0;36m__init__\u001b[0;34m(self, corner, width, height)\u001b[0m\n\u001b[1;32m      4\u001b[0m     \u001b[0;32mdef\u001b[0m \u001b[0m__init__\u001b[0m\u001b[0;34m(\u001b[0m\u001b[0mself\u001b[0m\u001b[0;34m,\u001b[0m \u001b[0mcorner\u001b[0m\u001b[0;34m,\u001b[0m \u001b[0mwidth\u001b[0m\u001b[0;34m,\u001b[0m \u001b[0mheight\u001b[0m\u001b[0;34m)\u001b[0m\u001b[0;34m:\u001b[0m\u001b[0;34m\u001b[0m\u001b[0;34m\u001b[0m\u001b[0m\n\u001b[1;32m      5\u001b[0m         \u001b[0mself\u001b[0m\u001b[0;34m.\u001b[0m\u001b[0mcorner\u001b[0m \u001b[0;34m=\u001b[0m \u001b[0mcorner\u001b[0m\u001b[0;34m\u001b[0m\u001b[0;34m\u001b[0m\u001b[0m\n\u001b[0;32m----> 6\u001b[0;31m         \u001b[0mself\u001b[0m\u001b[0;34m.\u001b[0m\u001b[0mwidth\u001b[0m \u001b[0;34m=\u001b[0m \u001b[0mwidth\u001b[0m\u001b[0;34m\u001b[0m\u001b[0;34m\u001b[0m\u001b[0m\n\u001b[0m\u001b[1;32m      7\u001b[0m         \u001b[0mself\u001b[0m\u001b[0;34m.\u001b[0m\u001b[0mheight\u001b[0m \u001b[0;34m=\u001b[0m \u001b[0mheight\u001b[0m\u001b[0;34m\u001b[0m\u001b[0;34m\u001b[0m\u001b[0m\n\u001b[1;32m      8\u001b[0m \u001b[0;34m\u001b[0m\u001b[0m\n",
      "\u001b[0;32m/var/folders/1h/93wslqxj7kz5qnq_szkpw2nc0000gn/T/ipykernel_26019/671931392.py\u001b[0m in \u001b[0;36mwidth\u001b[0;34m(self, tmp)\u001b[0m\n\u001b[1;32m     39\u001b[0m     \u001b[0;34m@\u001b[0m\u001b[0mwidth\u001b[0m\u001b[0;34m.\u001b[0m\u001b[0msetter\u001b[0m\u001b[0;34m\u001b[0m\u001b[0;34m\u001b[0m\u001b[0m\n\u001b[1;32m     40\u001b[0m     \u001b[0;32mdef\u001b[0m \u001b[0mwidth\u001b[0m\u001b[0;34m(\u001b[0m\u001b[0mself\u001b[0m\u001b[0;34m,\u001b[0m \u001b[0mtmp\u001b[0m\u001b[0;34m)\u001b[0m\u001b[0;34m:\u001b[0m\u001b[0;34m\u001b[0m\u001b[0;34m\u001b[0m\u001b[0m\n\u001b[0;32m---> 41\u001b[0;31m         \u001b[0;32mif\u001b[0m \u001b[0;32mnot\u001b[0m \u001b[0minstance\u001b[0m\u001b[0;34m(\u001b[0m\u001b[0mtmp\u001b[0m\u001b[0;34m,\u001b[0m \u001b[0;34m(\u001b[0m\u001b[0mint\u001b[0m\u001b[0;34m,\u001b[0m \u001b[0mfloat\u001b[0m\u001b[0;34m)\u001b[0m\u001b[0;34m)\u001b[0m\u001b[0;34m:\u001b[0m\u001b[0;34m\u001b[0m\u001b[0;34m\u001b[0m\u001b[0m\n\u001b[0m\u001b[1;32m     42\u001b[0m             \u001b[0;32mraise\u001b[0m \u001b[0mTypeError\u001b[0m\u001b[0;34m(\u001b[0m\u001b[0;34m'width must be a number'\u001b[0m\u001b[0;34m)\u001b[0m\u001b[0;34m\u001b[0m\u001b[0;34m\u001b[0m\u001b[0m\n\u001b[1;32m     43\u001b[0m         \u001b[0;32mif\u001b[0m \u001b[0mtmp\u001b[0m \u001b[0;34m<=\u001b[0m \u001b[0;36m0\u001b[0m\u001b[0;34m:\u001b[0m\u001b[0;34m\u001b[0m\u001b[0;34m\u001b[0m\u001b[0m\n",
      "\u001b[0;31mNameError\u001b[0m: name 'instance' is not defined"
     ]
    }
   ],
   "source": [
    "border = Border(Vector(3, 4), 5, 6)"
   ]
  },
  {
   "cell_type": "code",
   "execution_count": 220,
   "metadata": {},
   "outputs": [],
   "source": [
    "class Person:\n",
    "    def __init__(self, name, age=0) -> None:\n",
    "        self.name = name\n",
    "        self.age = age\n",
    "\n",
    "    def __repr__(self):\n",
    "        return f'name={self.name} age={self.age}'\n",
    "\n",
    "    @property\n",
    "    def age(self):\n",
    "        #code\n",
    "        return self.__age\n",
    "\n",
    "    @age.setter\n",
    "    def age(self, age_input):\n",
    "        if not isinstance(age_input, (int, float)):\n",
    "            raise TypeError('Age must be number')\n",
    "        if age_input < 0:\n",
    "            raise ValueError('Age must not be negative')\n",
    "        self.__age = age_input\n",
    "\n"
   ]
  },
  {
   "cell_type": "code",
   "execution_count": 221,
   "metadata": {},
   "outputs": [],
   "source": [
    "p1 = Person('God')"
   ]
  },
  {
   "cell_type": "code",
   "execution_count": 222,
   "metadata": {},
   "outputs": [
    {
     "data": {
      "text/plain": [
       "0"
      ]
     },
     "execution_count": 222,
     "metadata": {},
     "output_type": "execute_result"
    }
   ],
   "source": [
    "p1.age"
   ]
  },
  {
   "cell_type": "code",
   "execution_count": 227,
   "metadata": {},
   "outputs": [],
   "source": [
    "p1.age = 0.01"
   ]
  },
  {
   "cell_type": "code",
   "execution_count": 228,
   "metadata": {},
   "outputs": [
    {
     "data": {
      "text/plain": [
       "name=God age=0.01"
      ]
     },
     "execution_count": 228,
     "metadata": {},
     "output_type": "execute_result"
    }
   ],
   "source": [
    "p1"
   ]
  },
  {
   "cell_type": "code",
   "execution_count": 168,
   "metadata": {},
   "outputs": [],
   "source": [
    "import copy\n",
    "class Rectangle:\n",
    "    \"\"\"A class to manufacture rectangle objects.\"\"\"\n",
    "\n",
    "    def __init__(self, pos):\n",
    "        \"\"\"Initialize rectangle at pos, with width w, height h.\"\"\"\n",
    "        # self.set_corner(pos)\n",
    "        self.pos = pos\n",
    "        # self.set_width(w)\n",
    "        # self.width = w\n",
    "        # # self.set_height(h)\n",
    "        # self.height = h\n",
    "        # self.num = num\n",
    "\n",
    "    def __repr__(self) -> str:\n",
    "        return f'Rectange pos= {self.pos}'\n",
    "\n",
    "    # def get_corner(self):\n",
    "    #     return self.__corner\n",
    "\n",
    "    # # def set_corner(self, pos):\n",
    "    # #     self.__corner = copy.copy(pos)\n",
    "\n",
    "    # def get_width(self):\n",
    "    #     return self.__width\n",
    "\n",
    "    # def set_width(self, w):\n",
    "    #     self.__width = w\n",
    "\n",
    "    # def set_height(self, h):\n",
    "    #     self.__height = h\n",
    "\n",
    "    # def get_height(self):\n",
    "    #     return self.__height"
   ]
  },
  {
   "cell_type": "code",
   "execution_count": 169,
   "metadata": {},
   "outputs": [],
   "source": [
    "class pos:\n",
    "    def __init__(self, x=0, y=0) -> None:\n",
    "        self.x = x\n",
    "        self.y = y\n",
    "\n",
    "    def __repr__(self) -> str:\n",
    "        return f'{self.x} {self.y}'"
   ]
  },
  {
   "cell_type": "code",
   "execution_count": 170,
   "metadata": {},
   "outputs": [],
   "source": [
    "import copy"
   ]
  },
  {
   "cell_type": "code",
   "execution_count": 171,
   "metadata": {},
   "outputs": [],
   "source": [
    "pos1 = pos(0, 0)\n",
    "pos2 = pos(3, 4)"
   ]
  },
  {
   "cell_type": "code",
   "execution_count": 179,
   "metadata": {},
   "outputs": [],
   "source": [
    "rec1 = Rectangle(pos1)\n",
    "\n",
    "rec2 = rec1"
   ]
  },
  {
   "cell_type": "code",
   "execution_count": 180,
   "metadata": {},
   "outputs": [
    {
     "name": "stdout",
     "output_type": "stream",
     "text": [
      "Rectange pos= 0 0\n",
      "Rectange pos= 0 0\n"
     ]
    }
   ],
   "source": [
    "print(rec1)\n",
    "print(rec2)"
   ]
  },
  {
   "cell_type": "code",
   "execution_count": 177,
   "metadata": {},
   "outputs": [],
   "source": [
    "rec2"
   ]
  },
  {
   "cell_type": "code",
   "execution_count": null,
   "metadata": {},
   "outputs": [],
   "source": []
  },
  {
   "cell_type": "code",
   "execution_count": null,
   "metadata": {},
   "outputs": [],
   "source": []
  },
  {
   "cell_type": "code",
   "execution_count": 218,
   "metadata": {},
   "outputs": [
    {
     "ename": "ValueError",
     "evalue": "Hello",
     "output_type": "error",
     "traceback": [
      "\u001b[0;31m---------------------------------------------------------------------------\u001b[0m",
      "\u001b[0;31mValueError\u001b[0m                                Traceback (most recent call last)",
      "\u001b[0;32m/var/folders/1h/93wslqxj7kz5qnq_szkpw2nc0000gn/T/ipykernel_51835/1239792323.py\u001b[0m in \u001b[0;36m<module>\u001b[0;34m\u001b[0m\n\u001b[0;32m----> 1\u001b[0;31m \u001b[0;32mraise\u001b[0m \u001b[0mValueError\u001b[0m\u001b[0;34m(\u001b[0m\u001b[0;34m'Hello'\u001b[0m\u001b[0;34m)\u001b[0m\u001b[0;34m\u001b[0m\u001b[0;34m\u001b[0m\u001b[0m\n\u001b[0m",
      "\u001b[0;31mValueError\u001b[0m: Hello"
     ]
    }
   ],
   "source": [
    "raise ValueError('Hello')"
   ]
  },
  {
   "cell_type": "code",
   "execution_count": null,
   "metadata": {},
   "outputs": [],
   "source": []
  },
  {
   "cell_type": "code",
   "execution_count": null,
   "metadata": {},
   "outputs": [],
   "source": []
  },
  {
   "cell_type": "code",
   "execution_count": null,
   "metadata": {},
   "outputs": [],
   "source": []
  }
 ],
 "metadata": {
  "interpreter": {
   "hash": "b8727a3ea1c70fe21a39654c7840a91d41f180d4046269e6fa6c8af00b63cdab"
  },
  "kernelspec": {
   "display_name": "Python 3.10.0 64-bit ('venv': venv)",
   "name": "python3"
  },
  "language_info": {
   "codemirror_mode": {
    "name": "ipython",
    "version": 3
   },
   "file_extension": ".py",
   "mimetype": "text/x-python",
   "name": "python",
   "nbconvert_exporter": "python",
   "pygments_lexer": "ipython3",
   "version": "3.10.0"
  },
  "orig_nbformat": 4
 },
 "nbformat": 4,
 "nbformat_minor": 2
}
